{
 "cells": [
  {
   "cell_type": "markdown",
   "metadata": {},
   "source": [
    "## Data transformation"
   ]
  },
  {
   "cell_type": "markdown",
   "metadata": {},
   "source": [
    "#### 1. Smoothing"
   ]
  },
  {
   "cell_type": "markdown",
   "metadata": {},
   "source": [
    "Let your data be\n",
    "\n",
    "D = {xi} i=1, 8 = {1, 2, 3, 2, 3, 1, 4, 3}\n",
    "\n",
    "X = [1, 2, 3, 2, 3, 1, 4, 3]"
   ]
  },
  {
   "cell_type": "markdown",
   "metadata": {},
   "source": [
    "#### 2. Logarithm trasform:\n",
    "\n",
    "    xi → log xi"
   ]
  },
  {
   "cell_type": "code",
   "execution_count": 6,
   "metadata": {},
   "outputs": [
    {
     "name": "stdout",
     "output_type": "stream",
     "text": [
      "[0.   0.69 1.1  0.69 1.1  0.   1.39 1.1 ]\n"
     ]
    }
   ],
   "source": [
    "import numpy as np\n",
    "X = [1, 2, 3, 2, 3, 1, 4, 3]\n",
    "lX = [np.log(x) for x in X]\n",
    "print(np.round(lX,2))\n",
    "\n",
    "# D → {0.0, 0.69, 1.1, 0.69, 1.1, 0.0, 1.39, 1.1}"
   ]
  },
  {
   "cell_type": "markdown",
   "metadata": {},
   "source": [
    "#### 3. k-step simple moving average \n",
    "\n",
    "- (for time series):"
   ]
  },
  {
   "cell_type": "code",
   "execution_count": 7,
   "metadata": {},
   "outputs": [
    {
     "name": "stdout",
     "output_type": "stream",
     "text": [
      "[1.   2.   2.   2.33 2.67 2.   2.67 2.67]\n"
     ]
    }
   ],
   "source": [
    "# for k = 3\n",
    "smaX = [X[0], X[1]] + [np.mean([X[i-2], X[i-1], X[i]]) for i in range(2,\n",
    "len(X))]\n",
    "print(np.round(smaX,2))\n",
    "\n",
    "#D → {1.00, 2.00, 2.00, 2.33, 2.67, 2.00, 2.67, 2.67}"
   ]
  },
  {
   "cell_type": "markdown",
   "metadata": {},
   "source": [
    "#### 4. Aggregation:"
   ]
  },
  {
   "cell_type": "code",
   "execution_count": 16,
   "metadata": {},
   "outputs": [
    {
     "name": "stdout",
     "output_type": "stream",
     "text": [
      "0\n",
      "1\n",
      "2\n",
      "3\n",
      "4\n",
      "5\n",
      "6\n",
      "7\n"
     ]
    }
   ],
   "source": [
    "for j in range(len(X)):\n",
    "    print(j)    "
   ]
  },
  {
   "cell_type": "code",
   "execution_count": 23,
   "metadata": {},
   "outputs": [
    {
     "name": "stdout",
     "output_type": "stream",
     "text": [
      "[1.5 2.5 2.  3.5]\n"
     ]
    }
   ],
   "source": [
    "# X = [1, 2, 3, 2, 3, 1, 4, 3]\n",
    "agg = [1/2*(X[j]+X[j+1]) for j in range(0,len(X)-1,2)]\n",
    "print(np.round(agg,2))\n",
    "# D → {1.5, 2.5, 2, 3.5}"
   ]
  },
  {
   "cell_type": "markdown",
   "metadata": {},
   "source": [
    "#### 5. Min-max normalization:"
   ]
  },
  {
   "cell_type": "code",
   "execution_count": 25,
   "metadata": {},
   "outputs": [
    {
     "name": "stdout",
     "output_type": "stream",
     "text": [
      "[0.   0.33 0.67 0.33 0.67 0.   1.   0.67]\n"
     ]
    }
   ],
   "source": [
    "# D → {0.0, 0.33, 0.67, 0.33, 0.67, 0.0, 1.0, 0.67}\n",
    "mmX = [(x-np.min(X))/(np.max(X)-np.min(X)) for x in X]\n",
    "print(np.round(mmX,2))"
   ]
  },
  {
   "cell_type": "markdown",
   "metadata": {},
   "source": [
    "#### 6. Standardization(or z-score normalization):\n"
   ]
  },
  {
   "cell_type": "code",
   "execution_count": 26,
   "metadata": {},
   "outputs": [
    {
     "name": "stdout",
     "output_type": "stream",
     "text": [
      "[-1.39 -0.38  0.63 -0.38  0.63 -1.39  1.64  0.63]\n"
     ]
    }
   ],
   "source": [
    "# D → {−1.39, −0.38, 0.63, −0.38, 0.63, −1.39, 1.64, 0.63}\n",
    "sX = [(x - np.mean(X))/(np.std(X)) for x in X]\n",
    "print(np.round(sX,2))"
   ]
  }
 ],
 "metadata": {
  "kernelspec": {
   "display_name": "Python 3",
   "language": "python",
   "name": "python3"
  },
  "language_info": {
   "codemirror_mode": {
    "name": "ipython",
    "version": 3
   },
   "file_extension": ".py",
   "mimetype": "text/x-python",
   "name": "python",
   "nbconvert_exporter": "python",
   "pygments_lexer": "ipython3",
   "version": "3.8.5"
  }
 },
 "nbformat": 4,
 "nbformat_minor": 4
}
